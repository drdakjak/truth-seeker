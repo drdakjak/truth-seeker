{
 "cells": [
  {
   "cell_type": "code",
   "execution_count": 1,
   "metadata": {},
   "outputs": [],
   "source": [
    "import os\n",
    "import json\n",
    "from IPython.display import Markdown, display\n",
    "from IPython.display import Image"
   ]
  },
  {
   "cell_type": "code",
   "execution_count": 2,
   "metadata": {},
   "outputs": [],
   "source": [
    "from agents.graph import build_graph"
   ]
  },
  {
   "cell_type": "code",
   "execution_count": 3,
   "metadata": {},
   "outputs": [],
   "source": [
    "from config import LANGUAGE"
   ]
  },
  {
   "cell_type": "code",
   "execution_count": 4,
   "metadata": {},
   "outputs": [],
   "source": [
    "from load_secrets import load_secrets"
   ]
  },
  {
   "cell_type": "code",
   "execution_count": 5,
   "metadata": {},
   "outputs": [],
   "source": [
    "%load_ext autoreload\n",
    "%autoreload 2"
   ]
  },
  {
   "cell_type": "code",
   "execution_count": 6,
   "metadata": {},
   "outputs": [],
   "source": [
    "load_secrets()"
   ]
  },
  {
   "cell_type": "code",
   "execution_count": 7,
   "metadata": {},
   "outputs": [],
   "source": [
    "graph = build_graph()"
   ]
  },
  {
   "cell_type": "code",
   "execution_count": 8,
   "metadata": {},
   "outputs": [
    {
     "ename": "ImportError",
     "evalue": "Install pygraphviz to draw graphs: `pip install pygraphviz`.",
     "output_type": "error",
     "traceback": [
      "\u001b[0;31m---------------------------------------------------------------------------\u001b[0m",
      "\u001b[0;31mModuleNotFoundError\u001b[0m                       Traceback (most recent call last)",
      "File \u001b[0;32m~/VScodeProjects/truth-seeker/.venv/lib/python3.9/site-packages/langchain_core/runnables/graph_png.py:137\u001b[0m, in \u001b[0;36mPngDrawer.draw\u001b[0;34m(self, graph, output_path)\u001b[0m\n\u001b[1;32m    136\u001b[0m \u001b[38;5;28;01mtry\u001b[39;00m:\n\u001b[0;32m--> 137\u001b[0m     \u001b[38;5;28;01mimport\u001b[39;00m \u001b[38;5;21;01mpygraphviz\u001b[39;00m \u001b[38;5;28;01mas\u001b[39;00m \u001b[38;5;21;01mpgv\u001b[39;00m  \u001b[38;5;66;03m# type: ignore[import]\u001b[39;00m\n\u001b[1;32m    138\u001b[0m \u001b[38;5;28;01mexcept\u001b[39;00m \u001b[38;5;167;01mImportError\u001b[39;00m \u001b[38;5;28;01mas\u001b[39;00m exc:\n",
      "\u001b[0;31mModuleNotFoundError\u001b[0m: No module named 'pygraphviz'",
      "\nThe above exception was the direct cause of the following exception:\n",
      "\u001b[0;31mImportError\u001b[0m                               Traceback (most recent call last)",
      "Cell \u001b[0;32mIn[8], line 1\u001b[0m\n\u001b[0;32m----> 1\u001b[0m Image(\u001b[43mgraph\u001b[49m\u001b[38;5;241;43m.\u001b[39;49m\u001b[43mget_graph\u001b[49m\u001b[43m(\u001b[49m\u001b[43m)\u001b[49m\u001b[38;5;241;43m.\u001b[39;49m\u001b[43mdraw_png\u001b[49m\u001b[43m(\u001b[49m\u001b[43m)\u001b[49m)\n",
      "File \u001b[0;32m~/VScodeProjects/truth-seeker/.venv/lib/python3.9/site-packages/langchain_core/runnables/graph.py:524\u001b[0m, in \u001b[0;36mGraph.draw_png\u001b[0;34m(self, output_file_path, fontname, labels)\u001b[0m\n\u001b[1;32m    520\u001b[0m \u001b[38;5;28;01mfrom\u001b[39;00m \u001b[38;5;21;01mlangchain_core\u001b[39;00m\u001b[38;5;21;01m.\u001b[39;00m\u001b[38;5;21;01mrunnables\u001b[39;00m\u001b[38;5;21;01m.\u001b[39;00m\u001b[38;5;21;01mgraph_png\u001b[39;00m \u001b[38;5;28;01mimport\u001b[39;00m PngDrawer\n\u001b[1;32m    522\u001b[0m default_node_labels \u001b[38;5;241m=\u001b[39m {node\u001b[38;5;241m.\u001b[39mid: node\u001b[38;5;241m.\u001b[39mname \u001b[38;5;28;01mfor\u001b[39;00m node \u001b[38;5;129;01min\u001b[39;00m \u001b[38;5;28mself\u001b[39m\u001b[38;5;241m.\u001b[39mnodes\u001b[38;5;241m.\u001b[39mvalues()}\n\u001b[0;32m--> 524\u001b[0m \u001b[38;5;28;01mreturn\u001b[39;00m \u001b[43mPngDrawer\u001b[49m\u001b[43m(\u001b[49m\n\u001b[1;32m    525\u001b[0m \u001b[43m    \u001b[49m\u001b[43mfontname\u001b[49m\u001b[43m,\u001b[49m\n\u001b[1;32m    526\u001b[0m \u001b[43m    \u001b[49m\u001b[43mLabelsDict\u001b[49m\u001b[43m(\u001b[49m\n\u001b[1;32m    527\u001b[0m \u001b[43m        \u001b[49m\u001b[43mnodes\u001b[49m\u001b[38;5;241;43m=\u001b[39;49m\u001b[43m{\u001b[49m\n\u001b[1;32m    528\u001b[0m \u001b[43m            \u001b[49m\u001b[38;5;241;43m*\u001b[39;49m\u001b[38;5;241;43m*\u001b[39;49m\u001b[43mdefault_node_labels\u001b[49m\u001b[43m,\u001b[49m\n\u001b[1;32m    529\u001b[0m \u001b[43m            \u001b[49m\u001b[38;5;241;43m*\u001b[39;49m\u001b[38;5;241;43m*\u001b[39;49m\u001b[43m(\u001b[49m\u001b[43mlabels\u001b[49m\u001b[43m[\u001b[49m\u001b[38;5;124;43m\"\u001b[39;49m\u001b[38;5;124;43mnodes\u001b[39;49m\u001b[38;5;124;43m\"\u001b[39;49m\u001b[43m]\u001b[49m\u001b[43m \u001b[49m\u001b[38;5;28;43;01mif\u001b[39;49;00m\u001b[43m \u001b[49m\u001b[43mlabels\u001b[49m\u001b[43m \u001b[49m\u001b[38;5;129;43;01mis\u001b[39;49;00m\u001b[43m \u001b[49m\u001b[38;5;129;43;01mnot\u001b[39;49;00m\u001b[43m \u001b[49m\u001b[38;5;28;43;01mNone\u001b[39;49;00m\u001b[43m \u001b[49m\u001b[38;5;28;43;01melse\u001b[39;49;00m\u001b[43m \u001b[49m\u001b[43m{\u001b[49m\u001b[43m}\u001b[49m\u001b[43m)\u001b[49m\u001b[43m,\u001b[49m\n\u001b[1;32m    530\u001b[0m \u001b[43m        \u001b[49m\u001b[43m}\u001b[49m\u001b[43m,\u001b[49m\n\u001b[1;32m    531\u001b[0m \u001b[43m        \u001b[49m\u001b[43medges\u001b[49m\u001b[38;5;241;43m=\u001b[39;49m\u001b[43mlabels\u001b[49m\u001b[43m[\u001b[49m\u001b[38;5;124;43m\"\u001b[39;49m\u001b[38;5;124;43medges\u001b[39;49m\u001b[38;5;124;43m\"\u001b[39;49m\u001b[43m]\u001b[49m\u001b[43m \u001b[49m\u001b[38;5;28;43;01mif\u001b[39;49;00m\u001b[43m \u001b[49m\u001b[43mlabels\u001b[49m\u001b[43m \u001b[49m\u001b[38;5;129;43;01mis\u001b[39;49;00m\u001b[43m \u001b[49m\u001b[38;5;129;43;01mnot\u001b[39;49;00m\u001b[43m \u001b[49m\u001b[38;5;28;43;01mNone\u001b[39;49;00m\u001b[43m \u001b[49m\u001b[38;5;28;43;01melse\u001b[39;49;00m\u001b[43m \u001b[49m\u001b[43m{\u001b[49m\u001b[43m}\u001b[49m\u001b[43m,\u001b[49m\n\u001b[1;32m    532\u001b[0m \u001b[43m    \u001b[49m\u001b[43m)\u001b[49m\u001b[43m,\u001b[49m\n\u001b[1;32m    533\u001b[0m \u001b[43m\u001b[49m\u001b[43m)\u001b[49m\u001b[38;5;241;43m.\u001b[39;49m\u001b[43mdraw\u001b[49m\u001b[43m(\u001b[49m\u001b[38;5;28;43mself\u001b[39;49m\u001b[43m,\u001b[49m\u001b[43m \u001b[49m\u001b[43moutput_file_path\u001b[49m\u001b[43m)\u001b[49m\n",
      "File \u001b[0;32m~/VScodeProjects/truth-seeker/.venv/lib/python3.9/site-packages/langchain_core/runnables/graph_png.py:139\u001b[0m, in \u001b[0;36mPngDrawer.draw\u001b[0;34m(self, graph, output_path)\u001b[0m\n\u001b[1;32m    137\u001b[0m     \u001b[38;5;28;01mimport\u001b[39;00m \u001b[38;5;21;01mpygraphviz\u001b[39;00m \u001b[38;5;28;01mas\u001b[39;00m \u001b[38;5;21;01mpgv\u001b[39;00m  \u001b[38;5;66;03m# type: ignore[import]\u001b[39;00m\n\u001b[1;32m    138\u001b[0m \u001b[38;5;28;01mexcept\u001b[39;00m \u001b[38;5;167;01mImportError\u001b[39;00m \u001b[38;5;28;01mas\u001b[39;00m exc:\n\u001b[0;32m--> 139\u001b[0m     \u001b[38;5;28;01mraise\u001b[39;00m \u001b[38;5;167;01mImportError\u001b[39;00m(\n\u001b[1;32m    140\u001b[0m         \u001b[38;5;124m\"\u001b[39m\u001b[38;5;124mInstall pygraphviz to draw graphs: `pip install pygraphviz`.\u001b[39m\u001b[38;5;124m\"\u001b[39m\n\u001b[1;32m    141\u001b[0m     ) \u001b[38;5;28;01mfrom\u001b[39;00m \u001b[38;5;21;01mexc\u001b[39;00m\n\u001b[1;32m    143\u001b[0m \u001b[38;5;66;03m# Create a directed graph\u001b[39;00m\n\u001b[1;32m    144\u001b[0m viz \u001b[38;5;241m=\u001b[39m pgv\u001b[38;5;241m.\u001b[39mAGraph(directed\u001b[38;5;241m=\u001b[39m\u001b[38;5;28;01mTrue\u001b[39;00m, nodesep\u001b[38;5;241m=\u001b[39m\u001b[38;5;241m0.9\u001b[39m, ranksep\u001b[38;5;241m=\u001b[39m\u001b[38;5;241m1.0\u001b[39m)\n",
      "\u001b[0;31mImportError\u001b[0m: Install pygraphviz to draw graphs: `pip install pygraphviz`."
     ]
    }
   ],
   "source": [
    "Image(graph.get_graph().draw_png())\n"
   ]
  },
  {
   "cell_type": "code",
   "execution_count": 8,
   "metadata": {},
   "outputs": [],
   "source": [
    "from lambda_function import lambda_handler"
   ]
  },
  {
   "cell_type": "code",
   "execution_count": 9,
   "metadata": {},
   "outputs": [],
   "source": [
    "task = \"Dezinformátorské žně kvůli ukrajinskému obilí. EU přitom nezavádí omezení dovozu kvůli jedům\"\n",
    "\n",
    "event = {\n",
    "    'body':json.dumps({'prompt': task})\n",
    "}"
   ]
  },
  {
   "cell_type": "code",
   "execution_count": 10,
   "metadata": {},
   "outputs": [
    {
     "data": {
      "text/plain": [
       "{'statusCode': 200,\n",
       " 'headers': {'Content-Type': 'application/json',\n",
       "  'Access-Control-Allow-Headers': '*',\n",
       "  'Access-Control-Allow-Origin': '*',\n",
       "  'Access-Control-Allow-Methods': '*'},\n",
       " 'body': '### Dezinformátorské žně kvůli ukrajinskému obilí: EU přitom nezavádí omezení dovozu kvůli jedům\\n\\n#### I. Introduction\\nV posledních měsících se v souvislosti s dovozem ukrajinského obilí do Evropské unie objevilo množství dezinformací. Tento článek se zaměřuje na rozbor těchto nepravdivých tvrzení a na postoj EU k případným omezením dovozu z důvodu obav o pesticidy. V kontextu probíhajícího konfliktu na Ukrajině a jeho dopadů na globální trhy je důležité porozumět, jak dezinformace ovlivňují veřejné mínění a politiku.\\n\\n#### II. Background on Ukrainian Grain Exports\\nUkrajina je jedním z nejvýznamnějších producentů a exportérů obilí na světě. Válka, která začala v roce 2014 s anexí Krymu a vyvrcholila ruskou invazí v roce 2022, zásadně ovlivnila produkci a exportní trasy ukrajinského obilí. Evropská unie se snaží podpořit ukrajinské zemědělce a zmírnit globální potravinové nedostatky tím, že usnadňuje export ukrajinského obilí, což je klíčové pro stabilizaci trhu.\\n\\n#### III. Misinformation Landscape\\nDezinformace se obvykle definují jako záměrně nepravdivé nebo zavádějící informace, které mají za cíl ovlivnit veřejné mínění. V případě ukrajinského obilí se objevují mýty o používání nepovolených pesticidů a zdravotních rizicích spojených s jeho konzumací. Tyto dezinformace jsou často šířeny prostřednictvím sociálních médií a politických prohlášení, což přispívá k obavám veřejnosti o bezpečnost potravin.\\n\\n#### IV. EU Regulations on Food Safety\\nEvropská unie má přísné standardy pro bezpečnost potravin, které se vztahují i na dovážené zboží. Tyto regulace zahrnují specifické limity pro zbytky pesticidů v potravinách a přísné testovací protokoly. V současnosti EU nezavedla žádná omezení dovozu ukrajinského obilí z důvodu obav o pesticidy, což potvrzují oficiální prohlášení a dostupná data.\\n\\n#### V. Analysis of the Disinformation Impact\\nDezinformace o ukrajinském obilí mají významný dopad na veřejné mínění, což může vést k obavám o bezpečnost potravin a ovlivnit politické rozhodování v EU. Tyto nepravdivé informace mohou také narušit trh s obilím a ovlivnit ceny potravin, což má dalekosáhlé ekonomické důsledky.\\n\\n#### VI. Combating Disinformation\\nV boji proti dezinformacím hrají klíčovou roli organizace zaměřené na ověřování faktů, které se snaží vyvracet nepravdivé tvrzení. Zvyšování mediální gramotnosti mezi občany je také zásadní, aby se lidé naučili kriticky hodnotit zdroje informací. Policymakeři by měli přijmout opatření k omezení šíření dezinformací a podporovat transparentnost informací.\\n\\n#### VII. Conclusion\\nDezinformace týkající se ukrajinského obilí a obav o pesticidy jsou rozšířené, avšak EU nezavedla žádná omezení dovozu na základě těchto tvrzení. Je důležité, aby veřejnost vyhledávala spolehlivé informace a podporovala úsilí o boj proti dezinformacím, které mohou mít vážné důsledky pro politiku a ekonomiku.'}"
      ]
     },
     "execution_count": 10,
     "metadata": {},
     "output_type": "execute_result"
    }
   ],
   "source": [
    "lambda_handler(event, None)"
   ]
  },
  {
   "cell_type": "code",
   "execution_count": 6,
   "metadata": {},
   "outputs": [],
   "source": [
    "thread_num = 0"
   ]
  },
  {
   "cell_type": "code",
   "execution_count": 20,
   "metadata": {},
   "outputs": [
    {
     "name": "stderr",
     "output_type": "stream",
     "text": [
      "[autoreload of main failed: Traceback (most recent call last):\n",
      "  File \"/Users/jakubdrdak/VScodeProjects/truth-seeker/.venv/lib/python3.9/site-packages/IPython/extensions/autoreload.py\", line 276, in check\n",
      "    superreload(m, reload, self.old_objects)\n",
      "  File \"/Users/jakubdrdak/VScodeProjects/truth-seeker/.venv/lib/python3.9/site-packages/IPython/extensions/autoreload.py\", line 475, in superreload\n",
      "    module = reload(module)\n",
      "  File \"/Library/Developer/CommandLineTools/Library/Frameworks/Python3.framework/Versions/3.9/lib/python3.9/importlib/__init__.py\", line 169, in reload\n",
      "    _bootstrap._exec(spec, module)\n",
      "  File \"<frozen importlib._bootstrap>\", line 613, in _exec\n",
      "  File \"<frozen importlib._bootstrap_external>\", line 846, in exec_module\n",
      "  File \"<frozen importlib._bootstrap_external>\", line 983, in get_code\n",
      "  File \"<frozen importlib._bootstrap_external>\", line 913, in source_to_code\n",
      "  File \"<frozen importlib._bootstrap>\", line 228, in _call_with_frames_removed\n",
      "  File \"/Users/jakubdrdak/VScodeProjects/truth-seeker/backend/src/generate_response/main.py\", line 22\n",
      "    final_state = graph.invoke(params, config= debug=DEBUG_MODE)\n",
      "                                                    ^\n",
      "SyntaxError: invalid syntax\n",
      "]\n"
     ]
    },
    {
     "ename": "NameError",
     "evalue": "name 'thread_num' is not defined",
     "output_type": "error",
     "traceback": [
      "\u001b[0;31m---------------------------------------------------------------------------\u001b[0m",
      "\u001b[0;31mNameError\u001b[0m                                 Traceback (most recent call last)",
      "Cell \u001b[0;32mIn[20], line 1\u001b[0m\n\u001b[0;32m----> 1\u001b[0m thread_num \u001b[38;5;241m+\u001b[39m\u001b[38;5;241m=\u001b[39m \u001b[38;5;241m1\u001b[39m\n\u001b[1;32m      2\u001b[0m task \u001b[38;5;241m=\u001b[39m \u001b[38;5;124m\"\u001b[39m\u001b[38;5;124mDezinformátorské žně kvůli ukrajinskému obilí. EU přitom nezavádí omezení dovozu kvůli jedům\u001b[39m\u001b[38;5;124m\"\u001b[39m\n\u001b[1;32m      4\u001b[0m thread \u001b[38;5;241m=\u001b[39m {\u001b[38;5;124m\"\u001b[39m\u001b[38;5;124mconfigurable\u001b[39m\u001b[38;5;124m\"\u001b[39m: {\u001b[38;5;124m\"\u001b[39m\u001b[38;5;124mthread_id\u001b[39m\u001b[38;5;124m\"\u001b[39m: \u001b[38;5;28mstr\u001b[39m(thread_num)}}\n",
      "\u001b[0;31mNameError\u001b[0m: name 'thread_num' is not defined"
     ]
    }
   ],
   "source": [
    "thread_num += 1\n",
    "task = \"Dezinformátorské žně kvůli ukrajinskému obilí. EU přitom nezavádí omezení dovozu kvůli jedům\"\n",
    "\n",
    "thread = {\"configurable\": {\"thread_id\": str(thread_num)}}\n",
    "params = {\n",
    "    'task': task,\n",
    "    'target_language': \"czech\",\n",
    "    \"max_revisions\": 2,\n",
    "    \"revision_number\": 1,   \n",
    "}\n",
    "\n",
    "for s in graph.stream(params, thread, debug=True):\n",
    "    print(s)"
   ]
  },
  {
   "cell_type": "code",
   "execution_count": null,
   "metadata": {},
   "outputs": [
    {
     "data": {
      "text/plain": [
       "['dezinformace ukrajinské obilí EU dovoz',\n",
       " 'ukrajinské obilí a pesticidy EU',\n",
       " 'dezinformace o dovozu obilí z Ukrajiny',\n",
       " 'vliv ukrajinského obilí na evropský trh',\n",
       " 'EU a regulace dovozu zemědělských produktů']"
      ]
     },
     "execution_count": 13,
     "metadata": {},
     "output_type": "execute_result"
    }
   ],
   "source": [
    "graph.get_state(thread).values['queries']"
   ]
  },
  {
   "cell_type": "code",
   "execution_count": null,
   "metadata": {},
   "outputs": [
    {
     "data": {
      "text/plain": [
       "{'Aktualizováno: Ukrajinské obilí na evropském trhu zasáhne i české zemědělce. Dovoz ukrajinského obilí do EU má stále velmi negativní vliv na české zemědělce a může výrazně zasáhnout menší farmáře. Zároveň se již objevují nabídky, aby čeští zemědělci prodali svou produkci do bioplynových stanic například v ...',\n",
       " 'Budapešť o víkendu - stejně jako Varšava - zakázala až do konce června z Ukrajiny dovážet obilniny, ovoce, zeleninu, mléčné výrobky i hovězí a vepřové maso a vejce. V pondělí pozastavení dovozu obilí oznámilo i Slovensko. Kromě pšenice jde i o další produkty jako ovoce a zeleninu, sušená krmiva, cukr, chmel ...',\n",
       " 'Cesta ukrajinského obilí. Levné obilí z Ukrajiny se dostalo na evropský trh v návaznosti na ruskou invazi. Kvůli zablokovaným přístavům v Černém moři začala Ukrajina převážet zemědělské produkty po souši - čili přes sousední země. Proti tomu se ale v posledních týdnech začaly vymezovat země především střední ...',\n",
       " 'Další evropské státy zakazují ukrajinské obilí, Česko stopku nechystá. Zákazy dovozu obilí z Ukrajiny, které zavedly v posledních dnech Polsko, Maďarsko a Slovensko, jsou podle ministra zemědělství Zdeňka Nekuly v rozporu s podmínkami jednotného trhu Evropské unie i Světové obchodní organizace (WTO). Česko tak zákaz ...',\n",
       " 'Darovat. Látka chlorpyrifos, kterou slovenská potravinářská inspekce objevila v zásilce obilí z Ukrajiny, se v EU zakázala teprve v roce 2020. Na dotaz ČTK to odpověděl zemědělský expert ekologického Hnutí Duha Aleš Miklík. Upozornil na to, že proces omezování používání nebezpečných pesticidů je pomalý.',\n",
       " 'Data Českého statistického úřadu (ČSÚ) o dovozu obilovin z Ukrajiny a z Ruské federace ukazují velké rozdíly. Import z Ukrajiny v posledních letech strmě stoupá. Ještě v roce 2020 bylo do Česka dovezeno 1773 tun obilí, v roce 2022 více než 27 tisíc tun a v roce 2023 se jednalo už o 87 753 tun obilovin. Nejvíce zastoupenou ...',\n",
       " 'Dezinformační scéna si vzala ukrajinské obiloviny a potraviny jako rukojmí. Omezení jsou plánovaná zejména kvůli udržitelnosti evropského zemědělství a konkurenceschopnosti farmářů. Navíc je Česká republika v produkci obilovin samostatná. Podle informací resortu zemědělství z Ukrajiny dováží asi 0,1 % oproti tomu, co se v Česku vypěstuje.',\n",
       " 'Do téže společnosti totiž minulý týden přivezli ukrajinské obilí kontaminované nebezpečnými pesticidy. Úřady jí ho ale obratem zakázaly zpracovat. ... který není povolený v EU a má negativní vliv na zdraví lidí,\" uvedlo slovenské ministerstvo zemědělství. Slovensko, Polsko i Maďarsko v úterý s okamžitou ...',\n",
       " 'Jakékoli omezení dovozu ukrajinského obilí do zemí Evropské unie je „zásadně nepřijatelné\". Uvedlo to v sobotu ukrajinské ministerstvo zahraničí v nótě zaslané diplomatickým zástupcům EU a Polska v Kyjevě, napsala agentura Reuters. Polsko, Maďarsko, Bulharsko, Rumunsko a Slovensko čelí protestům domácích farmářů, kteří dovoz ukrajinských zemědělských ...',\n",
       " 'Kowalczyk uvedl, že EK požadavek zemědělců neplní a zveřejnila návrh na prodloužení dovozu obilí z Ukrajiny bez cla a bez kvót o další rok, tedy do června 2024. K požadavku Polska se přidalo i Maďarsko, Bulharsko, Rumunsko a Slovensko. Dovoz z Ukrajiny má vliv na tuzemské zemědělce, nemalá část jejich produkce do Polska ...',\n",
       " 'Kyjev - Jakékoli omezení dovozu ukrajinského obilí do zemí Evropské unie je \"zásadně nepřijatelné\". Uvedlo to dnes ukrajinské ministerstvo zahraničí v nótě zaslané diplomatickým zástupcům EU a Polska v Kyjevě, napsala agentura Reuters. Polsko, Maďarsko, Bulharsko, Rumunsko a Slovensko čelí protestům domácích farmářů, kteří dovoz ukrajinských zemědělských ...',\n",
       " 'Ničí prý ale trh v EU - iDNES.cz. Ukrajinské obilí mělo pomoci Africe. Ničí prý ale trh v EU. 30. března 2023. Zemědělské organizace mnoha evropských států žádají, aby politici začali řešit situaci ohledně ukrajinského obilí. Loni se v Evropě otevřely tzv. koridory solidarity, tedy trasy, kterými se mělo dopravovat ...',\n",
       " 'Obilí z Ukrajiny obsahuje pesticidy. Slovenský mlýn ho musí zničit. Ivan Vilček. 2. 5. ... Mlýn Kolárovo, který ukrajinské obilí dovezl, tvrdil, že firemní testy ukázaly jen 0,019 miligramu na kilogram. Norma Evropské unie stanovuje hranici 0,01 miligramu na kilogram, ale připouští padesátiprocentní odchylku. ...',\n",
       " 'Podle něj je kontrolováno ukrajinské obilí pro krmné i potravinářské účely. Zákaz dovozu ukrajinského obilí kvůli zjištění výskytu škodlivého pesticidu do Polska v sobotu oznámil tamní šéf vládní strany Právo a spravedlnost Jaroslaw Kaczyński. Stalo se tak v reakci na protesty rolníků.',\n",
       " 'Polská vláda již minulý týden požádala Evropskou komisi (EK), aby použila všechny nástroje k omezení vývozu ukrajinského obilí na unijní trh. Kowalczyk uvedl, že Evropská komise požadavek zemědělců neplní a zveřejnila návrh na prodloužení dovozu obilí z Ukrajiny bez cla a bez kvót o další rok, tedy do června 2024.',\n",
       " 'Potřeba uložit sankce na dovoz potravin a zemědělských produktů z Ruska a Běloruska do EU a zajistit stabilitu zemědělské produkce v EU (rozprava) Veronika Vrecionová (ECR). - Pane předsedající, v posledních týdnech a měsících se šíří dezinformace, že evropský trh zaplavilo levné ukrajinské obilí a evropští ...',\n",
       " 'Praha - Dezinformace týkající se obilí z Ukrajiny se staly jedním z hlavních propagandistických témat namířených proti Ukrajině. ČTK to dnes řekl mluvčí skupiny Čeští elfové Vít Kučík, skupina se zabývá monitoringem dezinformací na českém internetu. Ukrajinské obilí je často spojováno například s využíváním nepovolených pesticidů a dalších látek.',\n",
       " 'Právní regulace dovozu zemědělských produktů do ES/EU ... Práce \"Právní regulace dovozu zemědělských produktů do ES/EU\" se zaměřuje na úpravu vycházející jak z práva ES, tak z mezinárodních smluv - uzavřených na půdě WTO, se zeměmi ACP a dalších. Práce staví problematiku do širších politických a ekonomických ...',\n",
       " 'Tržní opatření = regulace a podpora uvádění zemědělských produktů na trh Regulace nabídky/cen Intervenční nákupy a skladování (cukr, pšenice, rýže, maso, mléko) ... Regulace dovozu a vývozu (cla, licence, kvóty, atd.) ... Propagace zemědělských produktů Zrozeno v EU Eu Milky Way -EU mléčná cesta, Řepkový olej ...',\n",
       " 'Veškeré ovoce a zelenina musí být při dovozu do EU doprovázeno rostlinolékařským osvědčením. Vyjmenované komodity dle rostlinného druhu a dle původu podléhají také dozoru při dovozu. Pravidla regulace dovozu osiv včetně postupů při vstupu zásilek na území EU jsou představena v kapitole „Dovoz ze třetích zemí\".',\n",
       " 'Za tímto účelem a s přihlédnutím k významnému nárůstu dovozu některých zemědělských produktů z Ukrajiny do EU v letech 2022 a 2023 obsahují prodloužená autonomní obchodní opatření posílený ochranný mechanismus. Ten zajistí, že v případě významného narušení trhu EU nebo trhů jednoho či více členských ...',\n",
       " 'Úplný zákaz dovozu zboží - (komodity v příloze VI Nařízení 2019/2072, + rostliny k pěstování dle Nařízení 2018/2019 ). Uplatňuje se z důvodů rizika komodit, kdy nejsou k dispozici prokázané efektivní opatření a po zavlečení škůdce nelze eliminovat. Dovoz s certifikátem ze země původu a s kontrolou na hranici EU ...',\n",
       " 'Šest zemí Evropské unie včetně České republiky žádá vytvořit evropský nástroj na výkup levného ukrajinského obilí, požadují také zavedení celních kvót na dovoz ukrajinských zemědělských produktů na unijní trh. Novinářům to dnes po jednání s kolegy z Visegrádské skupiny (V4; Česko, Maďarsko, Polsko, Slovensko) a z Bulharska a Rumunska řekl slovenský ...',\n",
       " '„Stínová vláda hnutí ANO vyzývá ministra zemědělství a vládu České republiky, aby neprodleně začala konat a sdělila veřejnosti informace o stavu obilí dováženého z Ukrajiny,\" píše opoziční strana. Pokud by došlo k zjištění, že obilniny obsahují nepovolené látky, hnutí žádá okamžitý zákaz dovozu. V předchozích dnech k tomuto kroku přistoupily ...'}"
      ]
     },
     "execution_count": 14,
     "metadata": {},
     "output_type": "execute_result"
    }
   ],
   "source": [
    "graph.get_state(thread).values['content']\n"
   ]
  },
  {
   "cell_type": "code",
   "execution_count": null,
   "metadata": {},
   "outputs": [
    {
     "data": {
      "text/markdown": [
       "### Dezinformátorské žně kvůli ukrajinskému obilí: EU a otázka dovozu jedovatých látek\n",
       "\n",
       "#### I. Introduction\n",
       "V posledních měsících se v souvislosti s dovozem ukrajinského obilí do Evropské unie objevilo množství dezinformací. Tento článek se zaměřuje na vyjasnění situace ohledně bezpečnosti ukrajinského obilí a postoj EU k potenciálním kontaminantům. Vzhledem k geopolitickým událostem, které ovlivnily ukrajinskou produkci obilí, je důležité porozumět nejen historickému kontextu, ale i aktuálnímu vývoji a jeho dopadům na evropský trh.\n",
       "\n",
       "#### II. Background on Ukrainian Grain Exports\n",
       "Ukrajina je jedním z největších producentů a exportérů obilí na světě. Ongoing conflict in Ukraine has severely impacted its agricultural sector, leading to disruptions in grain production and exports. The EU has played a crucial role in addressing the grain crisis, facilitating the export of Ukrainian grain to ensure global food security, especially in light of the challenges posed by the Russian invasion.\n",
       "\n",
       "#### III. Misinformation and Conspiracy Theories\n",
       "Dezinformace se obvykle definuje jako záměrné šíření nepravdivých nebo zavádějících informací. V kontextu ukrajinského obilí se objevují různé mýty, jako například tvrzení o kontaminaci jedovatými pesticidy. Tyto mylné informace často pocházejí z různých zdrojů, včetně sociálních médií a některých politických osobností, které využívají strach a nedůvěru k manipulaci s veřejným míněním.\n",
       "\n",
       "#### IV. EU's Regulatory Framework\n",
       "Evropská unie má přísné standardy pro bezpečnost potravin, které se vztahují na dovoz obilí. Procesy testování a monitorování zajišťují, že veškeré dovážené obilí splňuje stanovené normy. Nedávné rozhodnutí EU o prodloužení dovozu ukrajinského obilí bez cel a kvót do června 2024 bylo učiněno s ohledem na potřebu zajistit stabilitu dodávek a podporu ukrajinské ekonomiky.\n",
       "\n",
       "#### V. The Reality of Contaminants in Grain\n",
       "Mezi potenciálními kontaminanty, které mohou být přítomny v obilí, se nacházejí pesticidy a těžké kovy. Vědecké studie ukazují, že úroveň kontaminace ukrajinského obilí je pod limity stanovenými EU. Odborníci na bezpečnost potravin potvrzují, že ukrajinské obilí, které prochází přísným testováním, je bezpečné pro konzumaci.\n",
       "\n",
       "#### VI. The Impact of Misinformation\n",
       "Dezinformace má významný dopad na veřejné vnímání ukrajinského obilí a jeho bezpečnosti. Může také negativně ovlivnit ekonomiku ukrajinských farmářů a trh v EU. Politické rozhodování a regulační opatření mohou být ovlivněna strachem a nedůvěrou vyvolanými dezinformacemi, což může vést k neodůvodněným zákazům a omezením.\n",
       "\n",
       "#### VII. Combating Disinformation\n",
       "Média hrají klíčovou roli v šíření přesných informací a v boji proti dezinformacím. Veřejné kampaně zaměřené na vzdělávání o bezpečnosti potravin a rozvoj kritického myšlení mohou pomoci lidem lépe rozlišovat mezi důvěryhodnými a nepravdivými informacemi. Je důležité, aby čtenáři byli obezřetní a hledali spolehlivé zdroje informací.\n",
       "\n",
       "#### VIII. Conclusion\n",
       "V článku jsme se zaměřili na klíčové body týkající se dezinformací kolem ukrajinského obilí a postojů EU k této problematice. Je nezbytné, aby veřejnost byla informována a aby se vyhýbala dezinformacím, které mohou mít vážné důsledky pro zemědělství a ekonomiku. Vyzýváme čtenáře, aby se aktivně zapojili do hledání spolehlivých informací a byli obezřetní vůči dezinformacím."
      ],
      "text/plain": [
       "<IPython.core.display.Markdown object>"
      ]
     },
     "metadata": {},
     "output_type": "display_data"
    }
   ],
   "source": [
    "display(Markdown(graph.get_state(thread).values['draft']))"
   ]
  },
  {
   "cell_type": "code",
   "execution_count": null,
   "metadata": {},
   "outputs": [
    {
     "data": {
      "text/markdown": [
       "### 1. Translation of the original text\n",
       "\n",
       "#### I. Úvod\n",
       "V posledních měsících se v souvislosti s dovozem ukrajinského obilí do Evropské unie objevilo množství dezinformací. Tento článek se zaměřuje na vyjasnění situace ohledně bezpečnosti ukrajinského obilí a postoj EU k potenciálním kontaminantům. Vzhledem k geopolitickým událostem, které ovlivnily ukrajinskou produkci obilí, je důležité porozumět nejen historickému kontextu, ale i aktuálnímu vývoji a jeho dopadům na evropský trh.\n",
       "\n",
       "#### II. Pozadí ukrajinského vývozu obilí\n",
       "Ukrajina je jedním z největších producentů a exportérů obilí na světě. Probíhající konflikt na Ukrajině vážně ovlivnil její zemědělský sektor, což vedlo k narušení produkce a exportu obilí. EU hrála klíčovou roli při řešení obilní krize, usnadňující export ukrajinského obilí, aby zajistila globální potravinovou bezpečnost, zejména vzhledem k výzvám, které přinesla ruská invaze.\n",
       "\n",
       "#### III. Dezinformace a konspirační teorie\n",
       "Dezinformace se obvykle definuje jako záměrné šíření nepravdivých nebo zavádějících informací. V kontextu ukrajinského obilí se objevují různé mýty, jako například tvrzení o kontaminaci jedovatými pesticidy. Tyto mylné informace často pocházejí z různých zdrojů, včetně sociálních médií a některých politických osobností, které využívají strach a nedůvěru k manipulaci s veřejným míněním.\n",
       "\n",
       "#### IV. Regulační rámec EU\n",
       "Evropská unie má přísné standardy pro bezpečnost potravin, které se vztahují na dovoz obilí. Procesy testování a monitorování zajišťují, že veškeré dovážené obilí splňuje stanovené normy. Nedávné rozhodnutí EU o prodloužení dovozu ukrajinského obilí bez cel a kvót do června 2024 bylo učiněno s ohledem na potřebu zajistit stabilitu dodávek a podporu ukrajinské ekonomiky.\n",
       "\n",
       "#### V. Realita kontaminantů v obilí\n",
       "Mezi potenciálními kontaminanty, které mohou být přítomny v obilí, se nacházejí pesticidy a těžké kovy. Vědecké studie ukazují, že úroveň kontaminace ukrajinského obilí je pod limity stanovenými EU. Odborníci na bezpečnost potravin potvrzují, že ukrajinské obilí, které prochází přísným testováním, je bezpečné pro konzumaci.\n",
       "\n",
       "#### VI. Dopad dezinformací\n",
       "Dezinformace má významný dopad na veřejné vnímání ukrajinského obilí a jeho bezpečnosti. Může také negativně ovlivnit ekonomiku ukrajinských farmářů a trh v EU. Politické rozhodování a regulační opatření mohou být ovlivněna strachem a nedůvěrou vyvolanými dezinformacemi, což může vést k neodůvodněným zákazům a omezením.\n",
       "\n",
       "#### VII. Boj proti dezinformacím\n",
       "Média hrají klíčovou roli v šíření přesných informací a v boji proti dezinformacím. Veřejné kampaně zaměřené na vzdělávání o bezpečnosti potravin a rozvoj kritického myšlení mohou pomoci lidem lépe rozlišovat mezi důvěryhodnými a nepravdivými informacemi. Je důležité, aby čtenáři byli obezřetní a hledali spolehlivé zdroje informací.\n",
       "\n",
       "#### VIII. Závěr\n",
       "V článku jsme se zaměřili na klíčové body týkající se dezinformací kolem ukrajinského obilí a postojů EU k této problematice. Je nezbytné, aby veřejnost byla informována a aby se vyhýbala dezinformacím, které mohou mít vážné důsledky pro zemědělství a ekonomiku. Vyzýváme čtenáře, aby se aktivně zapojili do hledání spolehlivých informací a byli obezřetní vůči dezinformacím.\n",
       "\n",
       "### 2. Paraphrased parts\n",
       "- \"Ongoing conflict in Ukraine has severely impacted its agricultural sector, leading to disruptions in grain production and exports.\"\n",
       "  - Paraphrase: \"Probíhající konflikt na Ukrajině vážně ovlivnil její zemědělský sektor, což vedlo k narušení produkce a exportu obilí.\"\n",
       "  - Explanation: The paraphrase maintains the original meaning while using different phrasing. It conforms to Czech expression habits.\n",
       "\n",
       "- \"Média hrají klíčovou roli v šíření přesných informací a v boji proti dezinformacím.\"\n",
       "  - Paraphrase: \"Média hrají klíčovou roli v šíření přesných informací a v boji proti dezinformacím.\"\n",
       "  - Explanation: This part is a direct translation, as it is already clear and concise in both languages.\n",
       "\n",
       "### 3. Existence of slang and fixed expressions\n",
       "- \"Dezinformace\" (disinformation) is a term commonly used in both English and Czech, referring to false information spread deliberately.\n",
       "- \"Mýty\" (myths) is used in a similar context in both languages to describe widely held but false beliefs.\n",
       "- \"Boj proti dezinformacím\" (fight against disinformation) is a fixed expression that conveys the ongoing struggle to combat false information, widely recognized in media discourse."
      ],
      "text/plain": [
       "<IPython.core.display.Markdown object>"
      ]
     },
     "metadata": {},
     "output_type": "display_data"
    }
   ],
   "source": [
    "display(Markdown(graph.get_state(thread).values['translation']))"
   ]
  },
  {
   "cell_type": "code",
   "execution_count": null,
   "metadata": {},
   "outputs": [],
   "source": []
  }
 ],
 "metadata": {
  "kernelspec": {
   "display_name": ".venv",
   "language": "python",
   "name": "python3"
  },
  "language_info": {
   "codemirror_mode": {
    "name": "ipython",
    "version": 3
   },
   "file_extension": ".py",
   "mimetype": "text/x-python",
   "name": "python",
   "nbconvert_exporter": "python",
   "pygments_lexer": "ipython3",
   "version": "3.9.6"
  },
  "orig_nbformat": 4
 },
 "nbformat": 4,
 "nbformat_minor": 2
}

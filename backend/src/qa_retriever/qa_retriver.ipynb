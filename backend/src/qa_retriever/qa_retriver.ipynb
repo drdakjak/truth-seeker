{
 "cells": [
  {
   "cell_type": "code",
   "execution_count": 49,
   "metadata": {},
   "outputs": [
    {
     "name": "stdout",
     "output_type": "stream",
     "text": [
      "Collecting amazon-textract-textractor\n",
      "  Downloading amazon_textract_textractor-1.8.2-py3-none-any.whl.metadata (9.7 kB)\n",
      "Requirement already satisfied: Pillow in /Users/jakubdrdak/VScodeProjects/truth-seeker/.venv/lib/python3.11/site-packages (from amazon-textract-textractor) (10.4.0)\n",
      "Collecting XlsxWriter<4,>=3.0 (from amazon-textract-textractor)\n",
      "  Downloading XlsxWriter-3.2.0-py3-none-any.whl.metadata (2.6 kB)\n",
      "Requirement already satisfied: amazon-textract-caller<1,>=0.2.4 in /Users/jakubdrdak/VScodeProjects/truth-seeker/.venv/lib/python3.11/site-packages (from amazon-textract-textractor) (0.2.4)\n",
      "Collecting editdistance<0.9,>=0.6.2 (from amazon-textract-textractor)\n",
      "  Downloading editdistance-0.8.1-cp311-cp311-macosx_11_0_arm64.whl.metadata (3.9 kB)\n",
      "Requirement already satisfied: tabulate<0.10,>=0.9 in /Users/jakubdrdak/VScodeProjects/truth-seeker/.venv/lib/python3.11/site-packages (from amazon-textract-textractor) (0.9.0)\n",
      "Requirement already satisfied: boto3>=1.26.35 in /Users/jakubdrdak/VScodeProjects/truth-seeker/.venv/lib/python3.11/site-packages (from amazon-textract-caller<1,>=0.2.4->amazon-textract-textractor) (1.34.155)\n",
      "Requirement already satisfied: botocore in /Users/jakubdrdak/VScodeProjects/truth-seeker/.venv/lib/python3.11/site-packages (from amazon-textract-caller<1,>=0.2.4->amazon-textract-textractor) (1.34.155)\n",
      "Requirement already satisfied: amazon-textract-response-parser>=0.1.39 in /Users/jakubdrdak/VScodeProjects/truth-seeker/.venv/lib/python3.11/site-packages (from amazon-textract-caller<1,>=0.2.4->amazon-textract-textractor) (1.0.3)\n",
      "Requirement already satisfied: marshmallow<4,>=3.14 in /Users/jakubdrdak/VScodeProjects/truth-seeker/.venv/lib/python3.11/site-packages (from amazon-textract-response-parser>=0.1.39->amazon-textract-caller<1,>=0.2.4->amazon-textract-textractor) (3.21.3)\n",
      "Requirement already satisfied: jmespath<2.0.0,>=0.7.1 in /Users/jakubdrdak/VScodeProjects/truth-seeker/.venv/lib/python3.11/site-packages (from boto3>=1.26.35->amazon-textract-caller<1,>=0.2.4->amazon-textract-textractor) (1.0.1)\n",
      "Requirement already satisfied: s3transfer<0.11.0,>=0.10.0 in /Users/jakubdrdak/VScodeProjects/truth-seeker/.venv/lib/python3.11/site-packages (from boto3>=1.26.35->amazon-textract-caller<1,>=0.2.4->amazon-textract-textractor) (0.10.2)\n",
      "Requirement already satisfied: python-dateutil<3.0.0,>=2.1 in /Users/jakubdrdak/VScodeProjects/truth-seeker/.venv/lib/python3.11/site-packages (from botocore->amazon-textract-caller<1,>=0.2.4->amazon-textract-textractor) (2.9.0.post0)\n",
      "Requirement already satisfied: urllib3!=2.2.0,<3,>=1.25.4 in /Users/jakubdrdak/VScodeProjects/truth-seeker/.venv/lib/python3.11/site-packages (from botocore->amazon-textract-caller<1,>=0.2.4->amazon-textract-textractor) (2.2.2)\n",
      "Requirement already satisfied: packaging>=17.0 in /Users/jakubdrdak/VScodeProjects/truth-seeker/.venv/lib/python3.11/site-packages (from marshmallow<4,>=3.14->amazon-textract-response-parser>=0.1.39->amazon-textract-caller<1,>=0.2.4->amazon-textract-textractor) (24.1)\n",
      "Requirement already satisfied: six>=1.5 in /Users/jakubdrdak/VScodeProjects/truth-seeker/.venv/lib/python3.11/site-packages (from python-dateutil<3.0.0,>=2.1->botocore->amazon-textract-caller<1,>=0.2.4->amazon-textract-textractor) (1.16.0)\n",
      "Downloading amazon_textract_textractor-1.8.2-py3-none-any.whl (307 kB)\n",
      "Downloading editdistance-0.8.1-cp311-cp311-macosx_11_0_arm64.whl (79 kB)\n",
      "Downloading XlsxWriter-3.2.0-py3-none-any.whl (159 kB)\n",
      "Installing collected packages: XlsxWriter, editdistance, amazon-textract-textractor\n",
      "Successfully installed XlsxWriter-3.2.0 amazon-textract-textractor-1.8.2 editdistance-0.8.1\n"
     ]
    }
   ],
   "source": [
    "!pip install amazon-textract-textractor"
   ]
  },
  {
   "cell_type": "code",
   "execution_count": 51,
   "metadata": {},
   "outputs": [],
   "source": [
    "file_path = '.data/GSK4V9-2022-vz-aj.pdf'\n"
   ]
  },
  {
   "cell_type": "code",
   "execution_count": 52,
   "metadata": {},
   "outputs": [],
   "source": [
    "# import boto3\n",
    "# from trp import Document\n",
    "\n",
    "\n",
    "\n",
    "# # Call Textract\n",
    "# textract_client = boto3.client('textract', region_name='us-west-2')\n",
    "# response = textract_client.analyze_document(\n",
    "#     Document={'S3Object': {'Bucket': 'pdf-extract-test2', 'Name': '2022-vz-cj.pdf'}},\n",
    "#     FeatureTypes=['TABLES', 'FORMS']\n",
    "# )\n",
    "\n",
    "# # Process Textract Response\n",
    "# doc = Document(response)\n",
    "# for page in doc.pages:\n",
    "#     for line in page.lines:\n",
    "#         print(line.text)"
   ]
  },
  {
   "cell_type": "code",
   "execution_count": 64,
   "metadata": {},
   "outputs": [],
   "source": [
    "file_path = \"s3://pdf-extract-test2/2022-vz-aj-2.pdf\"\n"
   ]
  },
  {
   "cell_type": "code",
   "execution_count": null,
   "metadata": {},
   "outputs": [],
   "source": [
    "s3.create_bucket(Bucket=\"pdftestbucket\", CreateBucketConfiguration={'LocationConstraint': 'us-east-2'})\n"
   ]
  },
  {
   "cell_type": "code",
   "execution_count": 85,
   "metadata": {},
   "outputs": [],
   "source": [
    "from langchain_community.document_loaders import AmazonTextractPDFLoader\n",
    "from textractor.data.text_linearization_config import TextLinearizationConfig\n",
    "\n",
    "textract_client = boto3.client(\"textract\", region_name=\"us-west-2\")\n",
    "\n",
    "file_path = \"s3://pdf-extract-test2/2022-vz-aj-2.pdf\"\n",
    "loader = AmazonTextractPDFLoader(file_path, client=textract_client, \n",
    "                                 region_name=\"us-west-2\", \n",
    "                                 textract_features=['TABLES', 'LAYOUT', 'FORMS'],\n",
    "                                 linearization_config=TextLinearizationConfig(\n",
    "                                     hide_page_num_layout=True,\n",
    "                                     hide_header_layout=True,\n",
    "                                     hide_footer_layout=True,)\n",
    "                                 )"
   ]
  },
  {
   "cell_type": "code",
   "execution_count": 89,
   "metadata": {},
   "outputs": [],
   "source": [
    "text_splitter = RecursiveCharacterTextSplitter(chunk_size=500,\n",
    "    chunk_overlap=100,\n",
    "    length_function=len,\n",
    "    is_separator_regex=False,\n",
    "documents = loader.load_and_split(text_splitter)\n"
   ]
  },
  {
   "cell_type": "code",
   "execution_count": 93,
   "metadata": {},
   "outputs": [
    {
     "name": "stdout",
     "output_type": "stream",
     "text": [
      "58\n",
      "84\n",
      "902\n",
      "3530\n",
      "2734\n",
      "21\n",
      "3998\n",
      "2303\n",
      "2840\n",
      "3936\n",
      "1604\n",
      "2316\n",
      "3488\n",
      "878\n",
      "3572\n",
      "1713\n",
      "2732\n",
      "3667\n",
      "2487\n",
      "2275\n",
      "3798\n",
      "2030\n",
      "2388\n",
      "2088\n",
      "3456\n",
      "3904\n",
      "855\n",
      "2502\n",
      "2672\n",
      "227\n"
     ]
    }
   ],
   "source": [
    "for doc in documents:\n",
    "    print(len(doc.page_content))"
   ]
  },
  {
   "cell_type": "code",
   "execution_count": 81,
   "metadata": {},
   "outputs": [],
   "source": [
    "from IPython.display import display_markdown"
   ]
  },
  {
   "cell_type": "code",
   "execution_count": 92,
   "metadata": {},
   "outputs": [
    {
     "data": {
      "text/markdown": [
       "CHINA \n",
       "\n",
       "A Complex Threat to Czechia \n",
       "\n",
       "Officers of Chinese intelligence services continued to develop contacts with Czech political representatives throughout the entire political scene in 2022. At the same time, China has been involving members of the Chinese diaspora with growing intensity in promoting Chinese interests and gathering information, making the diaspora one of the tools of influence operations. The aim of intelligence officers and party officials is mainly to influence public opinion in order to promote a positive image of China. They also make use of previously established collaboration with certain entities in the Czech media sector. \n",
       "\n",
       "\n",
       "\n",
       "China continued its efforts to counter activities linked to issues known as the Five Poisons, most importantly Taiwan and Tibet, which hold a crucial position in the political agenda of the Communist party of China and are intrinsically linked to the One-China policy. China strongly objected to any collaboration with Taiwan and repeatedly issued government \n",
       "\n",
       "statements in order to draw attention to violations of so-called red lines. The BIS views such statements as an attempt to discourage any further reinforcement of the relations between Czechia and Taiwan. \n",
       "\n",
       "Regarding the Chinese diaspora, the BIS also detected the activity of so-called overseas police station employed by the Chinese regime to spy on representatives of Chinese communities in foreign countries. The stations are the long arm of the Chinese regime in relation to Chinese expatriates and in extreme cases, they can be involved in forced repatriations. The activities of Chinese overseas police stations in Czechia, however, have not yet been linked to any illegal aspects or security concerns. \n",
       "\n",
       "The Chinese continued to cultivate relations with certain representatives of the Czech academia in order to use their knowledge for gathering information on political issues. Such activities pose the risk of seemingly unproblematic research collaboration being \n",
       "\n",
       "exploited for intelligence and propaganda objectives. Particularly concerning are visits by Czech scientists to China, where even without being aware of it, they can be recruited by intelligence services which often prefer to establish contact with their sources on Chinese soil. There is also a risk in the use of Chinese technology by entities of strategic importance, especially by those involved with critical infrastructure. \n",
       "\n",
       "Furthermore, China represents a threat to Czechia in terms of trade in sensitive goods including EDT (emerging and disruptive technologies), know-how transfer and reverse engineering. In 2022, China showed again an interest in companies, goods and know- how which could facilitate its technological research or enhance its research capacities. These objectives are in fact followed by China's policies such as Civil-Military Fusion, Made in China 2025 and China Standard 2035. The BIS's attention was drawn primarily to efforts to acquire producers of aeronautical equipment or electron microscopes, which can be used for the production of microchips. \n",
       "\n",
       "The Russian invasion of Ukraine prompted China to increase its interest in Europe and \n",
       "\n",
       "to boost its cyberespionage activities in the region. In Czechia, these efforts took the form of spear-phishing attacks for example, which in some cases targeted government institutions. The attackers then took advantage of some of these institutions in an attempt to impersonate their employees and representatives."
      ]
     },
     "metadata": {},
     "output_type": "display_data"
    }
   ],
   "source": [
    "display_markdown(documents[12].page_content, raw=True)\n"
   ]
  },
  {
   "cell_type": "code",
   "execution_count": null,
   "metadata": {},
   "outputs": [],
   "source": []
  }
 ],
 "metadata": {
  "kernelspec": {
   "display_name": ".venv",
   "language": "python",
   "name": "python3"
  },
  "language_info": {
   "codemirror_mode": {
    "name": "ipython",
    "version": 3
   },
   "file_extension": ".py",
   "mimetype": "text/x-python",
   "name": "python",
   "nbconvert_exporter": "python",
   "pygments_lexer": "ipython3",
   "version": "3.11.4"
  }
 },
 "nbformat": 4,
 "nbformat_minor": 2
}
